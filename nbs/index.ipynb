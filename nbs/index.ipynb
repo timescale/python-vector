{
 "cells": [
  {
   "attachments": {},
   "cell_type": "markdown",
   "metadata": {},
   "source": [
    "# Timescale Vector"
   ]
  },
  {
   "attachments": {},
   "cell_type": "markdown",
   "metadata": {},
   "source": [
    "PostgreSQL++ for AI Applications.\n",
    "\n",
    "- [Signup for Timescale Vector](https://console.cloud.timescale.com/signup?utm_campaign=vectorlaunch&utm_source=github&utm_medium=direct): Get 90 days free to try Timescale Vector on the Timescale cloud data platform. There is no self-managed version at this time.\n",
    "- [Documentation](https://timescale.github.io/python-vector/): Learn the key features of Timescale Vector and how to use them.\n",
    "- [Getting Started Tutorial](https://timescale.github.io/python-vector/tsv_python_getting_started_tutorial.html): Learn how to use Timescale Vector for semantic search on a real world dataset.\n",
    "- [Learn more](https://www.timescale.com/blog/how-we-made-postgresql-the-best-vector-database/?utm_campaign=vectorlaunch&utm_source=github&utm_medium=direct): Learn more about Timescale Vector, how it works and why we built it.\n",
    "\n",
    "\n",
    "If you prefer to use an LLM development or data framework, see Timescale Vector's integrations with [LangChain](https://python.langchain.com/docs/integrations/vectorstores/timescalevector) and [LlamaIndex](https://gpt-index.readthedocs.io/en/stable/examples/vector_stores/Timescalevector.html)"
   ]
  },
  {
   "attachments": {},
   "cell_type": "markdown",
   "metadata": {},
   "source": [
    "## Install"
   ]
  },
  {
   "attachments": {},
   "cell_type": "markdown",
   "metadata": {},
   "source": [
    "```sh\n",
    "pip install timescale_vector\n",
    "```"
   ]
  },
  {
   "attachments": {},
   "cell_type": "markdown",
   "metadata": {},
   "source": [
    "## Basic Usage"
   ]
  },
  {
   "attachments": {},
   "cell_type": "markdown",
   "metadata": {},
   "source": [
    "Load up your postgres credentials. Safest way is with a .env file:"
   ]
  },
  {
   "cell_type": "code",
   "execution_count": null,
   "metadata": {},
   "outputs": [],
   "source": [
    "from dotenv import load_dotenv, find_dotenv\n",
    "import os"
   ]
  },
  {
   "cell_type": "code",
   "execution_count": null,
   "metadata": {},
   "outputs": [],
   "source": [
    "_ = load_dotenv(find_dotenv(), override=True) \n",
    "service_url  = os.environ['TIMESCALE_SERVICE_URL'] "
   ]
  },
  {
   "attachments": {},
   "cell_type": "markdown",
   "metadata": {},
   "source": [
    "Next, create the client. \n",
    "\n",
    "This takes three arguments: \n",
    "\n",
    "* A connection string\n",
    "* The name of the collection\n",
    "* Number of dimensions\n",
    "\n",
    "  In this tutorial, we will use the async client. But we have a sync client as well (with an almost identical interface)"
   ]
  },
  {
   "cell_type": "code",
   "execution_count": null,
   "metadata": {},
   "outputs": [],
   "source": [
    "#| hide\n",
    "import asyncpg"
   ]
  },
  {
   "cell_type": "code",
   "execution_count": null,
   "metadata": {},
   "outputs": [],
   "source": [
    "#| hide\n",
    "con = await asyncpg.connect(service_url)\n",
    "await con.execute(\"DROP TABLE IF EXISTS my_data;\")\n",
    "await con.execute(\"DROP TABLE IF EXISTS my_data_with_time_partition;\")\n",
    "await con.close()"
   ]
  },
  {
   "cell_type": "code",
   "execution_count": null,
   "metadata": {},
   "outputs": [],
   "source": [
    "from timescale_vector import client "
   ]
  },
  {
   "cell_type": "code",
   "execution_count": null,
   "metadata": {},
   "outputs": [],
   "source": [
    "vec  = client.Async(service_url, \"my_data\", 2)"
   ]
  },
  {
   "attachments": {},
   "cell_type": "markdown",
   "metadata": {},
   "source": [
    "Next, create the tables for the collection:"
   ]
  },
  {
   "cell_type": "code",
   "execution_count": null,
   "metadata": {},
   "outputs": [],
   "source": [
    "await vec.create_tables()"
   ]
  },
  {
   "attachments": {},
   "cell_type": "markdown",
   "metadata": {},
   "source": [
    "Next, insert some data. The data record contains:\n",
    "\n",
    "* A uuid to uniquely identify the emedding\n",
    "* A json blob of metadata about the embedding\n",
    "* The text the embedding represents\n",
    "* The embedding itself\n",
    "\n",
    "Because this data already includes uuids we only allow upserts"
   ]
  },
  {
   "cell_type": "code",
   "execution_count": null,
   "metadata": {},
   "outputs": [],
   "source": [
    "import uuid"
   ]
  },
  {
   "cell_type": "code",
   "execution_count": null,
   "metadata": {},
   "outputs": [],
   "source": [
    "await vec.upsert([\\\n",
    "    (uuid.uuid4(), '''{\"animal\":\"fox\"}''', \"the brown fox\", [1.0,1.3]),\\\n",
    "    (uuid.uuid4(), '''{\"animal\":\"fox\", \"action\":\"jump\"}''', \"jumped over the\", [1.0,10.8]),\\\n",
    "])"
   ]
  },
  {
   "attachments": {},
   "cell_type": "markdown",
   "metadata": {},
   "source": [
    "Now you can query for similar items:"
   ]
  },
  {
   "cell_type": "code",
   "execution_count": null,
   "metadata": {},
   "outputs": [
    {
     "data": {
      "text/plain": [
       "[<Record id=UUID('d10dc66f-92d5-4296-a702-1690860bbe55') metadata={'action': 'jump', 'animal': 'fox'} contents='jumped over the' embedding=array([ 1. , 10.8], dtype=float32) distance=0.00016793422934946456>,\n",
       " <Record id=UUID('06153343-9085-4844-ad7a-b5cbed912053') metadata={'animal': 'fox'} contents='the brown fox' embedding=array([1. , 1.3], dtype=float32) distance=0.14489260377438218>]"
      ]
     },
     "execution_count": null,
     "metadata": {},
     "output_type": "execute_result"
    }
   ],
   "source": [
    "await vec.search([1.0, 9.0])"
   ]
  },
  {
   "attachments": {},
   "cell_type": "markdown",
   "metadata": {},
   "source": [
    "You can specify the number of records to return."
   ]
  },
  {
   "cell_type": "code",
   "execution_count": null,
   "metadata": {},
   "outputs": [
    {
     "data": {
      "text/plain": [
       "[<Record id=UUID('d10dc66f-92d5-4296-a702-1690860bbe55') metadata={'action': 'jump', 'animal': 'fox'} contents='jumped over the' embedding=array([ 1. , 10.8], dtype=float32) distance=0.00016793422934946456>]"
      ]
     },
     "execution_count": null,
     "metadata": {},
     "output_type": "execute_result"
    }
   ],
   "source": [
    "await vec.search([1.0, 9.0], limit=1)"
   ]
  },
  {
   "attachments": {},
   "cell_type": "markdown",
   "metadata": {},
   "source": [
    "You can also specify a filter on the metadata as a simple dictionary"
   ]
  },
  {
   "cell_type": "code",
   "execution_count": null,
   "metadata": {},
   "outputs": [
    {
     "data": {
      "text/plain": [
       "[<Record id=UUID('d10dc66f-92d5-4296-a702-1690860bbe55') metadata={'action': 'jump', 'animal': 'fox'} contents='jumped over the' embedding=array([ 1. , 10.8], dtype=float32) distance=0.00016793422934946456>]"
      ]
     },
     "execution_count": null,
     "metadata": {},
     "output_type": "execute_result"
    }
   ],
   "source": [
    "await vec.search([1.0, 9.0], limit=1, filter={\"action\": \"jump\"})"
   ]
  },
  {
   "attachments": {},
   "cell_type": "markdown",
   "metadata": {},
   "source": [
    "You can also specify a list of filter dictionaries, where an item is returned if it matches any dict"
   ]
  },
  {
   "cell_type": "code",
   "execution_count": null,
   "metadata": {},
   "outputs": [
    {
     "data": {
      "text/plain": [
       "[<Record id=UUID('d10dc66f-92d5-4296-a702-1690860bbe55') metadata={'action': 'jump', 'animal': 'fox'} contents='jumped over the' embedding=array([ 1. , 10.8], dtype=float32) distance=0.00016793422934946456>,\n",
       " <Record id=UUID('06153343-9085-4844-ad7a-b5cbed912053') metadata={'animal': 'fox'} contents='the brown fox' embedding=array([1. , 1.3], dtype=float32) distance=0.14489260377438218>]"
      ]
     },
     "execution_count": null,
     "metadata": {},
     "output_type": "execute_result"
    }
   ],
   "source": [
    "await vec.search([1.0, 9.0], limit=2, filter=[{\"action\": \"jump\"}, {\"animal\": \"fox\"}])"
   ]
  },
  {
   "attachments": {},
   "cell_type": "markdown",
   "metadata": {},
   "source": [
    "You can access the fields as follows"
   ]
  },
  {
   "cell_type": "code",
   "execution_count": null,
   "metadata": {},
   "outputs": [
    {
     "data": {
      "text/plain": [
       "UUID('d10dc66f-92d5-4296-a702-1690860bbe55')"
      ]
     },
     "execution_count": null,
     "metadata": {},
     "output_type": "execute_result"
    }
   ],
   "source": [
    "records = await vec.search([1.0, 9.0], limit=1, filter={\"action\": \"jump\"})\n",
    "records[0][client.SEARCH_RESULT_ID_IDX]"
   ]
  },
  {
   "cell_type": "code",
   "execution_count": null,
   "metadata": {},
   "outputs": [
    {
     "data": {
      "text/plain": [
       "{'action': 'jump', 'animal': 'fox'}"
      ]
     },
     "execution_count": null,
     "metadata": {},
     "output_type": "execute_result"
    }
   ],
   "source": [
    "records[0][client.SEARCH_RESULT_METADATA_IDX]"
   ]
  },
  {
   "cell_type": "code",
   "execution_count": null,
   "metadata": {},
   "outputs": [
    {
     "data": {
      "text/plain": [
       "'jumped over the'"
      ]
     },
     "execution_count": null,
     "metadata": {},
     "output_type": "execute_result"
    }
   ],
   "source": [
    "records[0][client.SEARCH_RESULT_CONTENTS_IDX]"
   ]
  },
  {
   "cell_type": "code",
   "execution_count": null,
   "metadata": {},
   "outputs": [
    {
     "data": {
      "text/plain": [
       "array([ 1. , 10.8], dtype=float32)"
      ]
     },
     "execution_count": null,
     "metadata": {},
     "output_type": "execute_result"
    }
   ],
   "source": [
    "records[0][client.SEARCH_RESULT_EMBEDDING_IDX]"
   ]
  },
  {
   "cell_type": "code",
   "execution_count": null,
   "metadata": {},
   "outputs": [
    {
     "data": {
      "text/plain": [
       "0.00016793422934946456"
      ]
     },
     "execution_count": null,
     "metadata": {},
     "output_type": "execute_result"
    }
   ],
   "source": [
    "records[0][client.SEARCH_RESULT_DISTANCE_IDX]"
   ]
  },
  {
   "attachments": {},
   "cell_type": "markdown",
   "metadata": {},
   "source": [
    "You can delete by ID:"
   ]
  },
  {
   "cell_type": "code",
   "execution_count": null,
   "metadata": {},
   "outputs": [
    {
     "data": {
      "text/plain": [
       "[]"
      ]
     },
     "execution_count": null,
     "metadata": {},
     "output_type": "execute_result"
    }
   ],
   "source": [
    "await vec.delete_by_ids([records[0][client.SEARCH_RESULT_ID_IDX]])"
   ]
  },
  {
   "attachments": {},
   "cell_type": "markdown",
   "metadata": {},
   "source": [
    "Or you can delete by metadata filters:"
   ]
  },
  {
   "cell_type": "code",
   "execution_count": null,
   "metadata": {},
   "outputs": [
    {
     "data": {
      "text/plain": [
       "[]"
      ]
     },
     "execution_count": null,
     "metadata": {},
     "output_type": "execute_result"
    }
   ],
   "source": [
    "await vec.delete_by_metadata({\"action\": \"jump\"})"
   ]
  },
  {
   "attachments": {},
   "cell_type": "markdown",
   "metadata": {},
   "source": [
    "To delete all records use: "
   ]
  },
  {
   "cell_type": "code",
   "execution_count": null,
   "metadata": {},
   "outputs": [],
   "source": [
    "await vec.delete_all()"
   ]
  },
  {
   "attachments": {},
   "cell_type": "markdown",
   "metadata": {},
   "source": [
    "## Advanced Usage"
   ]
  },
  {
   "attachments": {},
   "cell_type": "markdown",
   "metadata": {},
   "source": [
    "### Indexing\n",
    "\n",
    "Indexing speeds up queries over your data. \n",
    "\n",
    "By default, we setup indexes to query your data by the uuid and the metadata.\n",
    "\n",
    "If you have many rows, you also need to setup an index on the embedding. You can create a timescale-vector index on the table with."
   ]
  },
  {
   "cell_type": "code",
   "execution_count": null,
   "metadata": {},
   "outputs": [],
   "source": [
    "await vec.create_embedding_index(client.TimescaleVectorIndex())"
   ]
  },
  {
   "attachments": {},
   "cell_type": "markdown",
   "metadata": {},
   "source": [
    "Please see `TimescaleVectorIndex` documentation for advanced options. the You can drop the index with:"
   ]
  },
  {
   "cell_type": "code",
   "execution_count": null,
   "metadata": {},
   "outputs": [],
   "source": [
    "await vec.drop_embedding_index()"
   ]
  },
  {
   "attachments": {},
   "cell_type": "markdown",
   "metadata": {},
   "source": [
    "While we recommend the timescale-vector index type, we also have 2 more index types availabe:\n",
    "\n",
    "* The pgvector ivfflat index with `IvfflatIndex`\n",
    "* The pgvector hnsw index with `HNSWIndex`\n",
    "\n",
    "Usage examples below:"
   ]
  },
  {
   "cell_type": "code",
   "execution_count": null,
   "metadata": {},
   "outputs": [],
   "source": [
    "await vec.create_embedding_index(client.IvfflatIndex())\n",
    "await vec.drop_embedding_index()\n",
    "await vec.create_embedding_index(client.HNSWIndex())\n",
    "await vec.drop_embedding_index()"
   ]
  },
  {
   "attachments": {},
   "cell_type": "markdown",
   "metadata": {},
   "source": [
    "Please note it is very important create the ivfflat index only after you have data in the table. "
   ]
  },
  {
   "attachments": {},
   "cell_type": "markdown",
   "metadata": {},
   "source": [
    "Please note the community is actively working on new indexing methods for embeddings. As they become available, we will add them to our client as well."
   ]
  },
  {
   "attachments": {},
   "cell_type": "markdown",
   "metadata": {},
   "source": [
    "### Time-partitioning\n",
    "\n",
    "In many use-cases where you have many embeddings time is an important component associated with the embeddings. For example, when embedding news stories you often search by time as well as similarity (e.g. stories related to bitcoin in the past week, or stories about Clinton in November 2016). \n",
    "\n",
    "Yet, traditionally, searching by two components \"similarity\" and \"time\" is challenging approximate nearest neigbor (ANN) indexes and makes the similariy-search index less effective.\n",
    "\n",
    "One approach to solving this is partitioning the data by time and creating ANN indexes on each partition individually. Then, during search you can:\n",
    "\n",
    " * Step 1: filter our partitions that don't match the time predicate\n",
    " * Step 2: perform the similarity search on all matching partitions\n",
    " * Step 3: combine all the results from each partition in step 2, rerank, and filter out results by time.\n",
    "\n",
    "Step 1 makes the search a lot more effecient by filtering out whole swaths of data in one go.\n",
    "\n",
    "Timescale-vector supports time partitioning using TimescaleDB's hypertables. To use this feature, simply indicate the length in time for each partition when creating the client:"
   ]
  },
  {
   "cell_type": "code",
   "execution_count": null,
   "metadata": {},
   "outputs": [],
   "source": [
    "from datetime import timedelta\n",
    "from datetime import datetime"
   ]
  },
  {
   "cell_type": "code",
   "execution_count": null,
   "metadata": {},
   "outputs": [],
   "source": [
    "vec = client.Async(service_url, \"my_data_with_time_partition\", 2, time_partition_interval=timedelta(hours=6))\n",
    "await vec.create_tables()"
   ]
  },
  {
   "attachments": {},
   "cell_type": "markdown",
   "metadata": {},
   "source": [
    "Then insert data where the ids use uuid's v1 and the time component of the uuid specifies the time of the embedding.\n",
    "For example, to create an embedding for the current time simply do: "
   ]
  },
  {
   "cell_type": "code",
   "execution_count": null,
   "metadata": {},
   "outputs": [],
   "source": [
    "id = uuid.uuid1()\n",
    "await vec.upsert([(id, {\"key\": \"val\"}, \"the brown fox\", [1.0, 1.2])])"
   ]
  },
  {
   "attachments": {},
   "cell_type": "markdown",
   "metadata": {},
   "source": [
    "To insert data for a specific time in the past, create the uuid using our `uuid_from_time` function"
   ]
  },
  {
   "cell_type": "code",
   "execution_count": null,
   "metadata": {},
   "outputs": [],
   "source": [
    "specific_datetime = datetime(2018, 8, 10, 15, 30, 0)\n",
    "await vec.upsert([(client.uuid_from_time(specific_datetime), {\"key\": \"val\"}, \"the brown fox\", [1.0, 1.2])])"
   ]
  },
  {
   "attachments": {},
   "cell_type": "markdown",
   "metadata": {},
   "source": [
    "You can then query the data by specifing a `uuid_time_filter` in the search call:"
   ]
  },
  {
   "cell_type": "code",
   "execution_count": null,
   "metadata": {},
   "outputs": [],
   "source": [
    "rec = await vec.search([1.0, 2.0], limit=4, uuid_time_filter=client.UUIDTimeRange(specific_datetime-timedelta(days=7), specific_datetime+timedelta(days=7)))"
   ]
  },
  {
   "attachments": {},
   "cell_type": "markdown",
   "metadata": {},
   "source": [
    "# PgVectorize\n",
    "\n",
    "PgVectorize enables you to create vector embeddings from any data that you already have stored in Postgres. Simply, attach PgVectorize to any Postgres table, and it will automatically sync that table's data with a set of embeddings stored in Timescale Vector. For example, let's say you have a blog table defined in the following way:"
   ]
  },
  {
   "cell_type": "code",
   "execution_count": null,
   "metadata": {},
   "outputs": [],
   "source": [
    "import psycopg2\n",
    "from langchain.docstore.document import Document\n",
    "from langchain.text_splitter import CharacterTextSplitter\n",
    "from timescale_vector import client, pgvectorizer\n",
    "from langchain.embeddings.openai import OpenAIEmbeddings\n",
    "from langchain.vectorstores.timescalevector import TimescaleVector\n",
    "from datetime import timedelta"
   ]
  },
  {
   "cell_type": "code",
   "execution_count": null,
   "metadata": {},
   "outputs": [],
   "source": [
    "#| hide\n",
    "with psycopg2.connect(service_url) as conn:\n",
    "    with conn.cursor() as cursor:\n",
    "        for item in ['blog', 'blog_embedding_work_queue', 'blog_embedding']:\n",
    "            cursor.execute(f\"DROP TABLE IF EXISTS {item};\")"
   ]
  },
  {
   "cell_type": "code",
   "execution_count": null,
   "metadata": {},
   "outputs": [],
   "source": [
    "with psycopg2.connect(service_url) as conn:\n",
    "    with conn.cursor() as cursor:\n",
    "        cursor.execute('''\n",
    "        CREATE TABLE IF NOT EXISTS blog (\n",
    "            id              SERIAL PRIMARY KEY NOT NULL,\n",
    "            title           TEXT NOT NULL,\n",
    "            author          TEXT NOT NULL,\n",
    "            contents        TEXT NOT NULL,\n",
    "            category        TEXT NOT NULL,\n",
    "            published_time  TIMESTAMPTZ NULL --NULL if not yet published\n",
    "        );\n",
    "        ''')"
   ]
  },
  {
   "attachments": {},
   "cell_type": "markdown",
   "metadata": {},
   "source": [
    "You can insert some data as follows:"
   ]
  },
  {
   "cell_type": "code",
   "execution_count": null,
   "metadata": {},
   "outputs": [],
   "source": [
    "with psycopg2.connect(service_url) as conn:\n",
    "    with conn.cursor() as cursor:\n",
    "        cursor.execute('''\n",
    "            INSERT INTO blog (title, author, contents, category, published_time) VALUES ('First Post', 'Matvey Arye', 'some super interesting content about cats.', 'AI', '2021-01-01');\n",
    "        ''')"
   ]
  },
  {
   "attachments": {},
   "cell_type": "markdown",
   "metadata": {},
   "source": [
    "Now, say you want to embed these blogs in Timescale Vector. First you need to define an `embed_and_write` function, that takes a set of blog posts, creates the embeddings, and writes them into TimescaleVector. For example, if using LangChain, it could look something like the following."
   ]
  },
  {
   "cell_type": "code",
   "execution_count": null,
   "metadata": {},
   "outputs": [],
   "source": [
    "def get_document(blog):\n",
    "    text_splitter = CharacterTextSplitter(\n",
    "        chunk_size=1000,\n",
    "        chunk_overlap=200,\n",
    "    )\n",
    "    docs = []\n",
    "    for chunk in text_splitter.split_text(blog['contents']):\n",
    "        content = f\"Author {blog['author']}, title: {blog['title']}, contents:{chunk}\"\n",
    "        metadata = {\n",
    "            \"id\": str(client.uuid_from_time(blog['published_time'])),\n",
    "            \"blog_id\": blog['id'], \n",
    "            \"author\": blog['author'], \n",
    "            \"category\": blog['category'],\n",
    "            \"published_time\": blog['published_time'].isoformat(),\n",
    "        }\n",
    "        docs.append(Document(page_content=content, metadata=metadata))\n",
    "    return docs\n",
    "\n",
    "def embed_and_write(blog_instances, vectorizer):\n",
    "    embedding = OpenAIEmbeddings()\n",
    "    vector_store = TimescaleVector(\n",
    "        collection_name=\"blog_embedding\",\n",
    "        service_url=service_url,\n",
    "        embedding=embedding,\n",
    "        time_partition_interval=timedelta(days=30),\n",
    "    )\n",
    "\n",
    "    # delete old embeddings for all ids in the work queue. locked_id is a special column that is set to the primary key of the table being\n",
    "    # embedded. For items that are deleted, it is the only key that is set.\n",
    "    metadata_for_delete = [{\"blog_id\": blog['locked_id']} for blog in blog_instances]\n",
    "    vector_store.delete_by_metadata(metadata_for_delete)\n",
    "\n",
    "    documents = []\n",
    "    for blog in blog_instances:\n",
    "        # skip blogs that are not published yet, or are deleted (in which case it will be NULL)\n",
    "        if blog['published_time'] != None:\n",
    "            documents.extend(get_document(blog))\n",
    "\n",
    "    if len(documents) == 0:\n",
    "        return\n",
    "    \n",
    "    texts = [d.page_content for d in documents]\n",
    "    metadatas = [d.metadata for d in documents]\n",
    "    ids = [d.metadata[\"id\"] for d in documents]\n",
    "    vector_store.add_texts(texts, metadatas, ids)"
   ]
  },
  {
   "attachments": {},
   "cell_type": "markdown",
   "metadata": {},
   "source": [
    "Then, all you have to do is run the following code in a scheduled job (cron job, lambda job, etc):"
   ]
  },
  {
   "cell_type": "code",
   "execution_count": null,
   "metadata": {},
   "outputs": [],
   "source": [
    "vectorizer = pgvectorizer.Vectorize(service_url, 'blog')\n",
    "while vectorizer.process(embed_and_write) > 0:\n",
    "    pass\n"
   ]
  },
  {
   "attachments": {},
   "cell_type": "markdown",
   "metadata": {},
   "source": [
    "Every time that job runs it will sync the table with your embeddings. It will sync all insert, updates, and deletes to an embeddings table called `blog_embedding`.\n",
    "\n",
    "Now, you can simply search the embeddings follows (again, using LangChain in the exampls):"
   ]
  },
  {
   "cell_type": "code",
   "execution_count": null,
   "metadata": {},
   "outputs": [
    {
     "data": {
      "text/plain": [
       "[(Document(page_content='Author Matvey Arye, title: First Post, contents:some super interesting content about cats.', metadata={'id': '4a784000-4bc4-11eb-9140-78a539e57b40', 'author': 'Matvey Arye', 'blog_id': 1, 'category': 'AI', 'published_time': '2021-01-01T00:00:00+00:00'}),\n",
       "  0.12605134378941762)]"
      ]
     },
     "execution_count": null,
     "metadata": {},
     "output_type": "execute_result"
    }
   ],
   "source": [
    "embedding = OpenAIEmbeddings()\n",
    "vector_store = TimescaleVector(\n",
    "    collection_name=\"blog_embedding\",\n",
    "    service_url=service_url,\n",
    "    embedding=embedding,\n",
    "    time_partition_interval=timedelta(days=30),\n",
    ")\n",
    "\n",
    "res = vector_store.similarity_search_with_score(\"Blogs about cats\")\n",
    "res"
   ]
  },
  {
   "attachments": {},
   "cell_type": "markdown",
   "metadata": {},
   "source": [
    "## Development\n",
    "\n",
    "This project is developed with [nbdev](https://nbdev.fast.ai/). Please see that website for the development process."
   ]
  },
  {
   "attachments": {},
   "cell_type": "markdown",
   "metadata": {},
   "source": []
  }
 ],
 "metadata": {
  "kernelspec": {
   "display_name": "python3",
   "language": "python",
   "name": "python3"
  }
 },
 "nbformat": 4,
 "nbformat_minor": 4
}
